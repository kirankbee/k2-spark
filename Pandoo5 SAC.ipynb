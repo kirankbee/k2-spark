{
 "cells": [
  {
   "cell_type": "code",
   "execution_count": 4,
   "metadata": {
    "collapsed": false
   },
   "outputs": [],
   "source": [
    "#similar to MAp reuduce Split Apply Combine is Pandas paradigm.\n",
    "#however it is limited to one single system\n",
    "#A data set is split into smaller pieces\n",
    "#Each of these pieces are operated upon independently\n",
    "#All of the results are combined back together and presented as a single unit\n",
    "#Citation : A good reference on SAC is located here http://www.jstatsoft.org/v40/i01/paper.\n",
    "import numpy as np\n",
    "import pandas as pd\n",
    "#pandas options  \n",
    "pd.set_option('display.notebook_repr_html', False)\n",
    "pd.set_option('display.max_columns', 5)\n",
    "pd.set_option('display.max_rows', 5)\n",
    "#sensorsdata = pd.read_csv(\"button_click.txt\", sheetname=None, parse_cols=6)\n",
    "#sensorsdata.head()\n",
    "#Exersise to complete here.\n",
    "#KEY: A B C DE F  #Data : 0 5 10 5 10 15 25  # SPLIT A : 0 5 10 B  # Apply : A "
   ]
  },
  {
   "cell_type": "code",
   "execution_count": null,
   "metadata": {
    "collapsed": true
   },
   "outputs": [],
   "source": []
  },
  {
   "cell_type": "code",
   "execution_count": null,
   "metadata": {
    "collapsed": true
   },
   "outputs": [],
   "source": []
  }
 ],
 "metadata": {
  "kernelspec": {
   "display_name": "Python 3",
   "language": "python",
   "name": "python3"
  },
  "language_info": {
   "codemirror_mode": {
    "name": "ipython",
    "version": 3
   },
   "file_extension": ".py",
   "mimetype": "text/x-python",
   "name": "python",
   "nbconvert_exporter": "python",
   "pygments_lexer": "ipython3",
   "version": "3.5.1"
  }
 },
 "nbformat": 4,
 "nbformat_minor": 0
}
