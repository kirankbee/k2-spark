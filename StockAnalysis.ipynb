{
 "cells": [
  {
   "cell_type": "code",
   "execution_count": 2,
   "metadata": {
    "collapsed": false
   },
   "outputs": [
    {
     "data": {
      "text/plain": [
       "           Ticker   Open   High    Low  Close     Volume\n",
       "Date                                                    \n",
       "2014-01-27   AAPL  78.58  79.26  77.96  78.64  144219152\n",
       "2014-01-28   AAPL  72.68  73.57  71.72  72.36  266833581\n",
       "2014-01-29   AAPL  71.99  72.48  71.23  71.54  125942796\n",
       "2014-01-30   AAPL  71.79  72.36  70.96  71.40  169762789\n",
       "2014-01-31   AAPL  70.74  71.65  70.51  71.51  116336444"
      ]
     },
     "execution_count": 2,
     "metadata": {},
     "output_type": "execute_result"
    }
   ],
   "source": [
    "#basic steps\n",
    "# import pandas, numpy and datetime\n",
    "import numpy as np\n",
    "import pandas as pd\n",
    "# needed for representing dates and times\n",
    "import datetime \n",
    "import pandas.io.data\n",
    "#from datetime import datetime\n",
    "# Set some pandas options for controlling output\n",
    "pd.set_option('display.notebook_repr_html', False)\n",
    "pd.set_option('display.max_columns', 10)\n",
    "pd.set_option('display.max_rows', 10)\n",
    "# matplotlib and inline graphics\n",
    "import matplotlib.pyplot as plt\n",
    "%matplotlib inline\n",
    "#define a function to retreive stock data from google finance using pandas.io.data.DataReader\n",
    "#based on tocker and date time frame,from google for a cpecific# stock specified by ticker and between the start and end dates\n",
    "\n",
    "def getStockData(ticker, start, end):\n",
    "# read the data\n",
    "       data = pd.io.data.DataReader(ticker, \"yahoo\", start, end)\n",
    "# rename this column\n",
    "       data.rename(columns={'Adj Close': 'AdjClose'}, inplace=True)\n",
    "# insert in the ticker as a column\n",
    "       data.insert(0, \"Ticker\", ticker)\n",
    "       return data\n",
    "# request the three years of data for MSFT\n",
    "start = datetime.datetime(2014, 1, 27)\n",
    "end = datetime.datetime(2016, 6, 27)\n",
    "getStockData(\"AAPL\", start, end).head()\n",
    "#getStockData[:5]\n",
    "#now extend the function to read data for multiple tockers #AAPL,GOOG<AMZN< MSFT< GE< IBM<KO<AA<DAL<UAL<PEP<\n",
    "#def getStockDataForTickers(tickers,start,end):\n",
    "    #retunr a dict\n",
    " #   stocks = dict()\n",
    "  #  for ticker in tickers:\n",
    "   #     s= getStockData(ticker,start,end)\n",
    "    #    stocks[ticker]=s\n",
    "     #   return stocks\n",
    "    \n",
    "#rawdata = getStockDataForTickers([\"AMZN\", \"AAPL\", \"GOOGL\", \"MSFT\", \"IBM\", \"KO\", \"PEP\", \"DAL\", \"UAL\", \"AA\"],start,end)\n",
    "                                  \n",
    "#rawdata[\"AMZN\"][:5]    "
   ]
  },
  {
   "cell_type": "code",
   "execution_count": null,
   "metadata": {
    "collapsed": true
   },
   "outputs": [],
   "source": [
    "#Plot the stock data of all the companies collected over year!"
   ]
  }
 ],
 "metadata": {
  "kernelspec": {
   "display_name": "Python 3",
   "language": "python",
   "name": "python3"
  },
  "language_info": {
   "codemirror_mode": {
    "name": "ipython",
    "version": 3
   },
   "file_extension": ".py",
   "mimetype": "text/x-python",
   "name": "python",
   "nbconvert_exporter": "python",
   "pygments_lexer": "ipython3",
   "version": "3.5.1"
  }
 },
 "nbformat": 4,
 "nbformat_minor": 0
}
