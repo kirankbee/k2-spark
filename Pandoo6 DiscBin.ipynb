{
 "cells": [
  {
   "cell_type": "code",
   "execution_count": 4,
   "metadata": {
    "collapsed": false
   },
   "outputs": [
    {
     "data": {
      "text/plain": [
       "            counts  freqs\n",
       "categories               \n",
       "(18, 35]        15   0.30\n",
       "(35, 50]        14   0.28\n",
       "(50, 57]         4   0.08\n",
       "(57, 65]         7   0.14\n",
       "NaN             10   0.20"
      ]
     },
     "execution_count": 4,
     "metadata": {},
     "output_type": "execute_result"
    }
   ],
   "source": [
    "#Discretization and bining a vaery usefull conecpt in time sereis data analysis\n",
    "#Discretization in pandas is performed using the pd.cut() and pd.qcut()  functions\n",
    "import pandas as pd\n",
    "import numpy as np\n",
    "import datetime\n",
    "#pandas options  \n",
    "pd.set_option('display.notebook_repr_html', False)\n",
    "pd.set_option('display.max_columns', 5)\n",
    "pd.set_option('display.max_rows', 5)\n",
    "# matplotlib and inline graphics\n",
    "import matplotlib.pyplot as plt\n",
    "%matplotlib inline\n",
    "\n",
    "#np.random.seed(123456)\n",
    "#dist = np.random.normal(size = 10000)\n",
    "#\"{0} {1}\".format(dist.mean(), dist.std())\n",
    "#dist\n",
    "#uber goal is to get a perfect normal distribution\n",
    "#now cut and split the data intto 5 bins evenly spread across the value sin the sample\n",
    "# split the data into 5 bins\n",
    "#bins = pd.cut(dist, 5)\n",
    "#bins\n",
    "#bins.categories\n",
    "# hsow the math to calculate the bins\n",
    "#min = dist.min()\n",
    "#max = dist.max()\n",
    "#delta = max - min\n",
    "#iwidth = delta/5\n",
    "#extra = delta*0.001\n",
    "#intervals = np.arange(min, max + extra, iwidth)\n",
    "#intervals[0] -= delta*0.001\n",
    "#intervals\n",
    "#application generate 50 ages between 6 to 50\n",
    "ages = np.random.randint(6,65,50)\n",
    "#ages\n",
    "#now cut the range with descriptive stats\n",
    "   \n",
    "ranges = [18, 35, 50,57,65]\n",
    "agebins = pd.cut(ages, ranges)\n",
    "agebins.describe()\n",
    "#exersise question is figure out why there is a NaN in the distribution\n",
    "#adding names for the bins instead of mat notion\n",
    "#ranges = [6, 12, 18, 35, 50]\n",
    "#labels = ['Youth', 'Young Adult', 'Adult', 'Middle Aged']\n",
    "#agebins = pd.cut(ages, ranges, labels=labels)\n",
    "#agebins.describe()\n",
    "#now cut into quantiles\n",
    "   \n",
    "# 5 bins with an equal quantity of items\n",
    "#qbin = pd.qcut(dist, 5)\n",
    "# this will tell us the range of values in each quantile\n",
    "#qbin.describe()\n",
    "# make the quantiles at the +/- 3, 2 and 1 std deviations\n",
    "#quantiles = [0,0.001,0.021,0.5-0.341,0.5,0.5+0.341,1.0-0.021,1.0-0.001,1.0]\n",
    "#qbin = pd.qcut(dist, quantiles)\n",
    "# this data should be a perfect normal distribution\n",
    "#qbin.describe()"
   ]
  },
  {
   "cell_type": "code",
   "execution_count": null,
   "metadata": {
    "collapsed": true
   },
   "outputs": [],
   "source": []
  },
  {
   "cell_type": "code",
   "execution_count": null,
   "metadata": {
    "collapsed": true
   },
   "outputs": [],
   "source": []
  }
 ],
 "metadata": {
  "kernelspec": {
   "display_name": "Python 3",
   "language": "python",
   "name": "python3"
  },
  "language_info": {
   "codemirror_mode": {
    "name": "ipython",
    "version": 3
   },
   "file_extension": ".py",
   "mimetype": "text/x-python",
   "name": "python",
   "nbconvert_exporter": "python",
   "pygments_lexer": "ipython3",
   "version": "3.5.1"
  }
 },
 "nbformat": 4,
 "nbformat_minor": 0
}
