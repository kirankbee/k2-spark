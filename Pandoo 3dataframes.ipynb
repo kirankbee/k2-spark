{
 "cells": [
  {
   "cell_type": "code",
   "execution_count": 6,
   "metadata": {
    "collapsed": false
   },
   "outputs": [
    {
     "data": {
      "text/plain": [
       "    0   1   2   3   4\n",
       "0  10  11  12  13  14\n",
       "1  15  16  17  18  19"
      ]
     },
     "execution_count": 6,
     "metadata": {},
     "output_type": "execute_result"
    }
   ],
   "source": [
    "# why dataframes?\n",
    "#DataFrame object extends the capabilities of the Seriesobject into 2-D .A Series  object adds an index to a NumPy array but can only \n",
    "# associate a single data item per index label, a DataFrame  integrates multiple Series objects by aligning them along common index labels. This automatic alignment by \n",
    "#index label provides a seamless view across all the Series  at each index label siimilar like that of a row in a\n",
    "#table\n",
    "# Datframes uses [] for selection carrying over from Series\n",
    "import numpy as np\n",
    "import pandas as pd\n",
    "#PD settings\n",
    "pd.set_option('display.notebook_repr_html', False)\n",
    "pd.set_option('display.max_columns', 10)\n",
    "pd.set_option('display.max_rows', 10)\n",
    "# create a DataFrame for a list of Series objects\n",
    "df = pd.DataFrame([pd.Series(np.arange(10, 15)), pd.Series(np.arange(15, 20))])\n",
    "df     #observe the output\n",
    "#df.shape  \n"
   ]
  },
  {
   "cell_type": "code",
   "execution_count": 17,
   "metadata": {
    "collapsed": false
   },
   "outputs": [
    {
     "data": {
      "text/plain": [
       "  Symbol|Price\n",
       "0   MMM|174.11\n",
       "1    ABT|39.63\n",
       "2   ABBV|61.31\n",
       "3   ACN|118.91\n",
       "4   ATVI|38.92"
      ]
     },
     "execution_count": 17,
     "metadata": {},
     "output_type": "execute_result"
    }
   ],
   "source": [
    "#let us read a sample csv datamw ith symbol as the index column and \n",
    "#SP500 = pd.read_csv(\"constituents-financials.csv\", index_column='Symbol',usecols=[0, 2, 3, 7])\n",
    "SP500 = pd.read_csv(\"constituents-financials.csv\")\n",
    "\n",
    "## use column 0 as the index\n",
    "SP500 = pd.read_csv(\"constituents-financials.csv\", index_col=0)\n",
    "SP500.head()\n",
    "# read in data only in the Name and Price columns\n",
    "# and index by the Price column\n",
    "SP500 = pd.read_csv(\"constituents-financials.csv\",usecols=['Symbol', 'Price'],index_col=['Symbol'])\n",
    "#SP500.head()\n",
    "#You can also save the filtered data from the DF to a new csv file.\n",
    "SP500.to_csv(\"modified_const_financials.csv\", index_label='Symbol', sep='|')\n",
    "SPmod500 = pd.read_csv(\"modified_const_financials.csv\")\n",
    "SPmod500.head()\n",
    "#if you wish to save it as feild delimitted data ':\" or ','  Df provides the ability\n",
    "#many other options to explore like eliminating noise and cancelling break space\n",
    "#reading and wirting to excel and also multipl excels etc.. apart from reading data from JSON too\n"
   ]
  },
  {
   "cell_type": "code",
   "execution_count": 19,
   "metadata": {
    "collapsed": false
   },
   "outputs": [
    {
     "data": {
      "text/plain": [
       "         Date       Open       High        Low      Close    Volume  Adj Close\n",
       "0  2014-06-30  42.169998  42.209999  41.700001  41.700001  30805500  39.527766\n",
       "1  2014-06-27  41.610001  42.290001  41.509998  42.250000  74640000  40.049115\n",
       "2  2014-06-26  41.930000  41.939999  41.430000  41.720001  23604400  39.546725\n",
       "3  2014-06-25  41.700001  42.049999  41.459999  42.029999  20049100  39.840574\n",
       "4  2014-06-24  41.830002  41.939999  41.560001  41.750000  26509100  39.575161"
      ]
     },
     "execution_count": 19,
     "metadata": {},
     "output_type": "execute_result"
    }
   ],
   "source": [
    "#reading and inte[rretting data from web\n",
    "   # the URL to read\n",
    "#url = \"http://www.fdic.gov/bank/individual/failed/banklist.html\"\n",
    "   # read it\n",
    "#banks = pd.read_html(url)\n",
    "   # examine a subset of the first table read\n",
    "#banks[0][0:5].ix[:,0:4]\n",
    "#reading data directly from web csv...\n",
    "df = pd.read_csv(\"http://ichart.yahoo.com/table.csv?s=MSFT&\" +\"a=5&b=1&c=2014&\" +\n",
    "                    \"d=5&e=30&f=2014&\" +\n",
    "                    \"g=d&ignore=.csv\")\n",
    "df[:5]"
   ]
  },
  {
   "cell_type": "code",
   "execution_count": null,
   "metadata": {
    "collapsed": true
   },
   "outputs": [],
   "source": [
    "#experiement copying and ropping rows that  using methods copy() .drop() on PD"
   ]
  }
 ],
 "metadata": {
  "kernelspec": {
   "display_name": "Python 3",
   "language": "python",
   "name": "python3"
  },
  "language_info": {
   "codemirror_mode": {
    "name": "ipython",
    "version": 3
   },
   "file_extension": ".py",
   "mimetype": "text/x-python",
   "name": "python",
   "nbconvert_exporter": "python",
   "pygments_lexer": "ipython3",
   "version": "3.5.1"
  }
 },
 "nbformat": 4,
 "nbformat_minor": 0
}
