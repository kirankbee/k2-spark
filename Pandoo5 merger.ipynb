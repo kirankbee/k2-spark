{
 "cells": [
  {
   "cell_type": "code",
   "execution_count": 5,
   "metadata": {
    "collapsed": false
   },
   "outputs": [
    {
     "data": {
      "text/plain": [
       "             street  price\n",
       "0      3526 HIGH ST  59222\n",
       "1       51 OMAHA CT  68212\n",
       "2    2796 BRANCH ST  68880\n",
       "3  2805 JANETTE WAY  69307\n",
       "4   6001 MCMAHON DR  81900"
      ]
     },
     "execution_count": 5,
     "metadata": {},
     "output_type": "execute_result"
    }
   ],
   "source": [
    "import pandas as pd\n",
    "import numpy as np\n",
    "#PD settings\n",
    "pd.set_option('display.notebook_repr_html', False)\n",
    "pd.set_option('display.max_columns', 10)\n",
    "pd.set_option('display.max_rows', 10)\n",
    "#define a DF for customers\n",
    "#onlinesales= pd.read_csv(\"Sacramentorealestatetransactions.csv\")\n",
    "#onlinesales.head()\n",
    "#let su just pick up street names only as DF\n",
    "dataset1 = pd.read_csv(\"Sacramentorealestatetransactions.csv\", usecols=[0,2,6])\n",
    "#dataset1.head()\n",
    "#now create a DF with this data\n",
    "adresses = pd.DataFrame(dataset1)\n",
    "adresses.head()\n",
    "#adresses.count()\n",
    "dataset2 = pd.read_csv(\"Sacramentorealestatetransactions.csv\", usecols=[0,9])\n",
    "prices = pd.DataFrame(dataset2)\n",
    "#prices.count()\n",
    "prices.head()\n",
    "#now merge street and price\n",
    "adresses.merge(prices)\n",
    "#merge with left right outer or inner joins\n",
    "#adresses.merge(prices, on='street')\n",
    "#adresses.head()\n"
   ]
  },
  {
   "cell_type": "code",
   "execution_count": null,
   "metadata": {
    "collapsed": true
   },
   "outputs": [],
   "source": []
  }
 ],
 "metadata": {
  "kernelspec": {
   "display_name": "Python 3",
   "language": "python",
   "name": "python3"
  },
  "language_info": {
   "codemirror_mode": {
    "name": "ipython",
    "version": 3
   },
   "file_extension": ".py",
   "mimetype": "text/x-python",
   "name": "python",
   "nbconvert_exporter": "python",
   "pygments_lexer": "ipython3",
   "version": "3.5.1"
  }
 },
 "nbformat": 4,
 "nbformat_minor": 0
}
